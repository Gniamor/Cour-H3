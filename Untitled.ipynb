{
 "cells": [
  {
   "cell_type": "code",
   "execution_count": 1,
   "id": "80020536",
   "metadata": {},
   "outputs": [],
   "source": [
    "def X_premier(X):\n",
    "    return X * X"
   ]
  },
  {
   "cell_type": "code",
   "execution_count": 2,
   "id": "7d7c9576",
   "metadata": {},
   "outputs": [],
   "source": [
    "def X_second(X) :\n",
    "    return str(X) + \"A\""
   ]
  },
  {
   "cell_type": "code",
   "execution_count": 3,
   "id": "e4df0c88",
   "metadata": {},
   "outputs": [],
   "source": [
    "X = 4"
   ]
  },
  {
   "cell_type": "code",
   "execution_count": 4,
   "id": "2b1ef36e",
   "metadata": {
    "scrolled": false
   },
   "outputs": [],
   "source": [
    "result1 = X_premier(X)\n",
    "result2 = X_second(X)"
   ]
  },
  {
   "cell_type": "code",
   "execution_count": null,
   "id": "49d974ff",
   "metadata": {},
   "outputs": [],
   "source": [
    "tada"
   ]
  },
  {
   "cell_type": "code",
   "execution_count": 5,
   "id": "0557631d",
   "metadata": {},
   "outputs": [
    {
     "name": "stdout",
     "output_type": "stream",
     "text": [
      "16\n"
     ]
    }
   ],
   "source": [
    "print(result1)"
   ]
  },
  {
   "cell_type": "code",
   "execution_count": 6,
   "id": "a2067a94",
   "metadata": {},
   "outputs": [
    {
     "name": "stdout",
     "output_type": "stream",
     "text": [
      "4A\n"
     ]
    }
   ],
   "source": [
    "print(result2)"
   ]
  },
  {
   "cell_type": "code",
   "execution_count": 7,
   "id": "dbbeac14",
   "metadata": {},
   "outputs": [],
   "source": [
    "## variable"
   ]
  },
  {
   "cell_type": "code",
   "execution_count": 8,
   "id": "a59e2f35",
   "metadata": {},
   "outputs": [],
   "source": [
    "titi = \"hello world\""
   ]
  },
  {
   "cell_type": "code",
   "execution_count": 9,
   "id": "bcd20959",
   "metadata": {},
   "outputs": [
    {
     "name": "stdout",
     "output_type": "stream",
     "text": [
      "hello world\n"
     ]
    }
   ],
   "source": [
    "print (titi)"
   ]
  },
  {
   "cell_type": "code",
   "execution_count": 10,
   "id": "2c6377c9",
   "metadata": {},
   "outputs": [],
   "source": [
    "list = {1,2,3}"
   ]
  },
  {
   "cell_type": "code",
   "execution_count": 11,
   "id": "bfc95182",
   "metadata": {},
   "outputs": [
    {
     "data": {
      "text/plain": [
       "{1, 2, 3}"
      ]
     },
     "execution_count": 11,
     "metadata": {},
     "output_type": "execute_result"
    }
   ],
   "source": [
    "list"
   ]
  },
  {
   "cell_type": "code",
   "execution_count": null,
   "id": "f012747c",
   "metadata": {},
   "outputs": [],
   "source": []
  }
 ],
 "metadata": {
  "kernelspec": {
   "display_name": "Python 3 (ipykernel)",
   "language": "python",
   "name": "python3"
  },
  "language_info": {
   "codemirror_mode": {
    "name": "ipython",
    "version": 3
   },
   "file_extension": ".py",
   "mimetype": "text/x-python",
   "name": "python",
   "nbconvert_exporter": "python",
   "pygments_lexer": "ipython3",
   "version": "3.10.12"
  }
 },
 "nbformat": 4,
 "nbformat_minor": 5
}
