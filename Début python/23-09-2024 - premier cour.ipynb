{
 "cells": [
  {
   "cell_type": "code",
   "execution_count": 13,
   "id": "80020536",
   "metadata": {},
   "outputs": [],
   "source": [
    "def X_premier(X):\n",
    "    return X * X"
   ]
  },
  {
   "cell_type": "code",
   "execution_count": 14,
   "id": "7d7c9576",
   "metadata": {},
   "outputs": [],
   "source": [
    "def X_second(X) :\n",
    "    return str(X) + \"A\""
   ]
  },
  {
   "cell_type": "code",
   "execution_count": 15,
   "id": "e4df0c88",
   "metadata": {},
   "outputs": [],
   "source": [
    "X = 4"
   ]
  },
  {
   "cell_type": "code",
   "execution_count": 16,
   "id": "2b1ef36e",
   "metadata": {
    "scrolled": false
   },
   "outputs": [],
   "source": [
    "result1 = X_premier(X)\n",
    "result2 = X_second(X)"
   ]
  },
  {
   "cell_type": "code",
   "execution_count": 17,
   "id": "0557631d",
   "metadata": {},
   "outputs": [
    {
     "name": "stdout",
     "output_type": "stream",
     "text": [
      "16\n"
     ]
    }
   ],
   "source": [
    "print(result1)"
   ]
  },
  {
   "cell_type": "code",
   "execution_count": 18,
   "id": "a2067a94",
   "metadata": {},
   "outputs": [
    {
     "name": "stdout",
     "output_type": "stream",
     "text": [
      "4A\n"
     ]
    }
   ],
   "source": [
    "print(result2)"
   ]
  },
  {
   "cell_type": "code",
   "execution_count": 19,
   "id": "dbbeac14",
   "metadata": {},
   "outputs": [],
   "source": [
    "## variable"
   ]
  },
  {
   "cell_type": "code",
   "execution_count": 20,
   "id": "a59e2f35",
   "metadata": {},
   "outputs": [],
   "source": [
    "titi = \"hello world\""
   ]
  },
  {
   "cell_type": "code",
   "execution_count": 21,
   "id": "bcd20959",
   "metadata": {},
   "outputs": [
    {
     "name": "stdout",
     "output_type": "stream",
     "text": [
      "hello world\n"
     ]
    }
   ],
   "source": [
    "print (titi)"
   ]
  },
  {
   "cell_type": "code",
   "execution_count": 22,
   "id": "2c6377c9",
   "metadata": {},
   "outputs": [],
   "source": [
    "list = {1,2,3}"
   ]
  },
  {
   "cell_type": "code",
   "execution_count": 23,
   "id": "bfc95182",
   "metadata": {},
   "outputs": [
    {
     "data": {
      "text/plain": [
       "{1, 2, 3}"
      ]
     },
     "execution_count": 23,
     "metadata": {},
     "output_type": "execute_result"
    }
   ],
   "source": [
    "list"
   ]
  },
  {
   "cell_type": "code",
   "execution_count": 24,
   "id": "39db069e",
   "metadata": {},
   "outputs": [
    {
     "name": "stdout",
     "output_type": "stream",
     "text": [
      "Package                Version\n",
      "---------------------- ----------------\n",
      "appdirs                1.4.4\n",
      "apturl                 0.5.2\n",
      "argon2-cffi            21.1.0\n",
      "attrs                  21.2.0\n",
      "Babel                  2.8.0\n",
      "backcall               0.2.0\n",
      "bcrypt                 3.2.0\n",
      "beautifulsoup4         4.10.0\n",
      "beniget                0.4.1\n",
      "bleach                 4.1.0\n",
      "blinker                1.4\n",
      "Brlapi                 0.8.3\n",
      "Brotli                 1.0.9\n",
      "certifi                2020.6.20\n",
      "chardet                4.0.0\n",
      "click                  8.0.3\n",
      "colorama               0.4.4\n",
      "command-not-found      0.3\n",
      "cryptography           3.4.8\n",
      "cupshelpers            1.0\n",
      "cycler                 0.11.0\n",
      "dbus-python            1.2.18\n",
      "decorator              4.4.2\n",
      "defer                  1.0.6\n",
      "defusedxml             0.7.1\n",
      "distro                 1.7.0\n",
      "distro-info            1.1+ubuntu0.2\n",
      "duplicity              0.8.21\n",
      "entrypoints            0.4\n",
      "fasteners              0.14.1\n",
      "fonttools              4.29.1\n",
      "fs                     2.4.12\n",
      "future                 0.18.2\n",
      "gast                   0.5.2\n",
      "html5lib               1.1\n",
      "httplib2               0.20.2\n",
      "idna                   3.3\n",
      "importlib-metadata     4.6.4\n",
      "ipykernel              6.7.0\n",
      "ipython                7.31.1\n",
      "ipython_genutils       0.2.0\n",
      "ipywidgets             6.0.0\n",
      "jedi                   0.18.0\n",
      "jeepney                0.7.1\n",
      "Jinja2                 3.0.3\n",
      "jsonschema             3.2.0\n",
      "jupyter-client         7.1.2\n",
      "jupyter-core           4.9.1\n",
      "jupyterlab-pygments    0.1.2\n",
      "keyring                23.5.0\n",
      "kiwisolver             1.3.2\n",
      "language-selector      0.1\n",
      "launchpadlib           1.10.16\n",
      "lazr.restfulclient     0.14.4\n",
      "lazr.uri               1.0.6\n",
      "lockfile               0.12.2\n",
      "louis                  3.20.0\n",
      "lxml                   4.8.0\n",
      "lz4                    3.1.3+dfsg\n",
      "macaroonbakery         1.3.1\n",
      "Mako                   1.1.3\n",
      "MarkupSafe             2.0.1\n",
      "matplotlib             3.5.1\n",
      "matplotlib-inline      0.1.3\n",
      "monotonic              1.6\n",
      "more-itertools         8.10.0\n",
      "mpmath                 0.0.0\n",
      "nbclient               0.5.6\n",
      "nbconvert              6.4.0\n",
      "nbformat               5.1.3\n",
      "nest-asyncio           1.5.4\n",
      "netifaces              0.11.0\n",
      "notebook               6.4.8\n",
      "numpy                  1.21.5\n",
      "oauthlib               3.2.0\n",
      "olefile                0.46\n",
      "packaging              21.3\n",
      "pandocfilters          1.5.0\n",
      "paramiko               2.9.3\n",
      "parso                  0.8.1\n",
      "pexpect                4.8.0\n",
      "pickleshare            0.7.5\n",
      "Pillow                 9.0.1\n",
      "pip                    22.0.2\n",
      "ply                    3.11\n",
      "prometheus-client      0.9.0\n",
      "prompt-toolkit         3.0.28\n",
      "protobuf               3.12.4\n",
      "ptyprocess             0.7.0\n",
      "py                     1.10.0\n",
      "pycairo                1.20.1\n",
      "pycups                 2.0.1\n",
      "Pygments               2.11.2\n",
      "PyGObject              3.42.1\n",
      "PyJWT                  2.3.0\n",
      "pymacaroons            0.13.0\n",
      "PyNaCl                 1.5.0\n",
      "pyparsing              2.4.7\n",
      "pyRFC3339              1.1\n",
      "pyrsistent             0.18.1\n",
      "python-apt             2.4.0+ubuntu3\n",
      "python-dateutil        2.8.1\n",
      "python-debian          0.1.43+ubuntu1.1\n",
      "pythran                0.10.0\n",
      "pytz                   2022.1\n",
      "pyxdg                  0.27\n",
      "PyYAML                 5.4.1\n",
      "pyzmq                  22.3.0\n",
      "reportlab              3.6.8\n",
      "requests               2.25.1\n",
      "scipy                  1.8.0\n",
      "SecretStorage          3.3.1\n",
      "Send2Trash             1.8.1b0\n",
      "setuptools             59.6.0\n",
      "six                    1.16.0\n",
      "soupsieve              2.3.1\n",
      "sympy                  1.9\n",
      "systemd-python         234\n",
      "terminado              0.13.1\n",
      "testpath               0.5.0\n",
      "tornado                6.1\n",
      "traitlets              5.1.1\n",
      "ubuntu-advantage-tools 8001\n",
      "ubuntu-drivers-common  0.0.0\n",
      "ufoLib2                0.13.1\n",
      "ufw                    0.36.1\n",
      "unattended-upgrades    0.1\n",
      "unicodedata2           14.0.0\n",
      "urllib3                1.26.5\n",
      "usb-creator            0.3.7\n",
      "wadllib                1.3.6\n",
      "wcwidth                0.2.5\n",
      "webencodings           0.5.1\n",
      "wheel                  0.37.1\n",
      "widgetsnbextension     2.0.0\n",
      "xdg                    5\n",
      "xkit                   0.0.0\n",
      "zipp                   1.0.0\n"
     ]
    }
   ],
   "source": [
    "!pip list"
   ]
  },
  {
   "cell_type": "code",
   "execution_count": 25,
   "id": "0e0cb518",
   "metadata": {},
   "outputs": [
    {
     "name": "stdout",
     "output_type": "stream",
     "text": [
      "1\n",
      "2\n",
      "3\n",
      "4\n",
      "5\n",
      "6\n",
      "7\n",
      "8\n",
      "9\n",
      "10\n"
     ]
    }
   ],
   "source": [
    "for i in range(1, 11):\n",
    "    print(i)"
   ]
  }
 ],
 "metadata": {
  "kernelspec": {
   "display_name": "Python 3 (ipykernel)",
   "language": "python",
   "name": "python3"
  },
  "language_info": {
   "codemirror_mode": {
    "name": "ipython",
    "version": 3
   },
   "file_extension": ".py",
   "mimetype": "text/x-python",
   "name": "python",
   "nbconvert_exporter": "python",
   "pygments_lexer": "ipython3",
   "version": "3.10.12"
  }
 },
 "nbformat": 4,
 "nbformat_minor": 5
}
